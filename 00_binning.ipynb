{
 "cells": [
  {
   "cell_type": "code",
   "execution_count": 1,
   "id": "061f50ad-43d2-4047-9cfb-60aa81ff2d4c",
   "metadata": {},
   "outputs": [],
   "source": [
    "import os\n",
    "import numpy as np\n",
    "import xarray as xr\n",
    "import pickle\n",
    "import healpy as hp\n",
    "import easygems.healpix as egh\n",
    "\n",
    "from functions import change_zoom_level\n",
    "\n",
    "figpath = 'figures/dry_days'"
   ]
  },
  {
   "cell_type": "code",
   "execution_count": 2,
   "id": "e0644781-15dd-4d18-90d1-59c0a0b7545a",
   "metadata": {},
   "outputs": [],
   "source": [
    "bounds_all = np.arange(0, 1000.01, .01)\n",
    "bounds_all = np.concatenate([bounds_all, [9999]])  # ensure the last bin covers all the rest"
   ]
  },
  {
   "cell_type": "markdown",
   "id": "f7c89514-1c6c-442a-ad70-9df1784db91f",
   "metadata": {},
   "source": [
    "## IFS"
   ]
  },
  {
   "cell_type": "code",
   "execution_count": 3,
   "id": "bf02db0b-1549-47b2-a7c0-b33924082437",
   "metadata": {},
   "outputs": [],
   "source": [
    "basepath = '/work/uc1275/LukasBrunner/data/SubGridVariability'\n",
    "\n",
    "fn = 'IFS-9-FESOM-5-production_pr_z9_day_2021-2049.nc'\n",
    "da = xr.open_dataset(os.path.join(basepath, 'input', fn))['pr'].load()\n",
    "\n",
    "da *= 1000  # original units: m (implicit: per day)\n",
    "da.attrs['units'] = 'mm/day'"
   ]
  },
  {
   "cell_type": "code",
   "execution_count": 4,
   "id": "d8ec3e84-988d-4435-a400-ace83cd28ba6",
   "metadata": {},
   "outputs": [],
   "source": [
    "da_z = {9: da}\n",
    "\n",
    "for zoom in range(8, -1, -1):\n",
    "    da_z[zoom] = change_zoom_level(da_z[zoom+1], gridn='value', z_out=zoom)"
   ]
  },
  {
   "cell_type": "code",
   "execution_count": null,
   "id": "fbc43e2f-f6e5-4a9f-9813-37850a9be7b0",
   "metadata": {},
   "outputs": [],
   "source": [
    "for zoom in da_z:\n",
    "    print('{}: {:.2f}'.format(zoom, da_z[zoom].values.max().item()))"
   ]
  },
  {
   "cell_type": "code",
   "execution_count": 21,
   "id": "d20b8f1c-6554-47aa-afdd-6f6e0061f01d",
   "metadata": {},
   "outputs": [
    {
     "name": "stdout",
     "output_type": "stream",
     "text": [
      "9: 3.3e+10\n",
      "8: 8.3e+09\n",
      "7: 2.1e+09\n",
      "6: 5.2e+08\n",
      "5: 1.3e+08\n",
      "4: 3.3e+07\n",
      "3: 8.1e+06\n",
      "2: 2.0e+06\n",
      "1: 5.1e+05\n",
      "0: 1.3e+05\n"
     ]
    }
   ],
   "source": [
    "for zoom in da_z:\n",
    "    print('{}: {:.1e}'.format(zoom, da_z[zoom].values.ravel().size))"
   ]
  },
  {
   "cell_type": "markdown",
   "id": "6053cd93-80ee-4e2a-a032-3ff7835f54fa",
   "metadata": {},
   "source": [
    "9: 3.332e+10\n",
    "8: 8.330e+09\n",
    "7: 2.082e+09\n",
    "6: 5.206e+08\n",
    "5: 1.302e+08\n",
    "4: 3.254e+07\n",
    "3: 8.135e+06\n",
    "2: 2.034e+06\n",
    "1: 5.084e+05\n",
    "0: 1.271e+05"
   ]
  },
  {
   "cell_type": "code",
   "execution_count": 6,
   "id": "f1e1d92b-30e8-455c-bf51-b3e030b0a6a2",
   "metadata": {},
   "outputs": [],
   "source": [
    "# get data on all zoom levels\n",
    "da_z = {9: da}\n",
    "\n",
    "for zoom in range(8, -1, -1):\n",
    "    da_z[zoom] = change_zoom_level(da_z[zoom+1], gridn='value', z_out=zoom)\n",
    "\n",
    "# calculate histogram on all zoom levels\n",
    "# NOTE: heavy lifting, runs for a couple of hours\n",
    "hist_all_z = {zoom: np.histogram(da_z[zoom].values.ravel(), bins=bounds_all)[0] / da_z[zoom].values.ravel().size for zoom in range(0, 10, 1)}\n",
    "\n",
    "with open('/work/uc1275/LukasBrunner/data/SubGridVariability/results/pr_binned-frequencies_ifs_2021-2049.pkl', 'wb') as ff:\n",
    "    pickle.dump(hist_all_z, ff)"
   ]
  },
  {
   "cell_type": "code",
   "execution_count": 23,
   "id": "501ce598-ddd8-4e4a-9646-4a521f93c2ce",
   "metadata": {},
   "outputs": [],
   "source": [
    "del da_z"
   ]
  },
  {
   "cell_type": "markdown",
   "id": "20b927bb-1527-42e5-bf9b-41fffe10fcc3",
   "metadata": {},
   "source": [
    "## ICON"
   ]
  },
  {
   "cell_type": "code",
   "execution_count": null,
   "id": "3d68779c-f2dd-4240-a930-58cc157c41a8",
   "metadata": {},
   "outputs": [],
   "source": [
    "basepath = '/work/uc1275/LukasBrunner/data/SubGridVariability'\n",
    "\n",
    "fn = 'ICON-ngc4008_pr_z9_day_2020-2049.nc'\n",
    "da = xr.open_dataset(os.path.join(basepath, 'input', fn))['pr'].load()\n",
    "da = da.sel(time=slice('2021', None))\n",
    "\n",
    "da *= 60*60*24\n",
    "da.attrs['units'] = 'mm/day'  # from mm/s"
   ]
  },
  {
   "cell_type": "code",
   "execution_count": null,
   "id": "b7e2263b-f3da-40b4-a497-3febee2a41b9",
   "metadata": {},
   "outputs": [],
   "source": [
    "da_z = {9: da}\n",
    "\n",
    "for zoom in range(8, -1, -1):\n",
    "    da_z[zoom] = change_zoom_level(da_z[zoom+1], gridn='value', z_out=zoom)"
   ]
  },
  {
   "cell_type": "code",
   "execution_count": null,
   "id": "368019a3-ce54-4252-9876-df1af75bdd30",
   "metadata": {},
   "outputs": [],
   "source": [
    "for zoom in da_z:\n",
    "    print('{}: {:.3e}'.format(zoom, da_z[zoom].values.ravel().size))"
   ]
  },
  {
   "cell_type": "code",
   "execution_count": null,
   "id": "e4d007f3-568a-480f-a14c-4f8674a77546",
   "metadata": {},
   "outputs": [],
   "source": [
    "# get data on all zoom levels\n",
    "da_z = {9: da}\n",
    "\n",
    "for zoom in range(8, -1, -1):\n",
    "    da_z[zoom] = change_zoom_level(da_z[zoom+1], gridn='x', z_out=zoom)\n",
    "\n",
    "# calculate histogram on all zoom levels\n",
    "# NOTE: heavy lifting, runs for a couple of hours\n",
    "hist_all_z = {zoom: np.histogram(da_z[zoom].values.ravel(), bins=bounds_all)[0] / da_z[zoom].values.ravel().size for zoom in range(0, 10, 1)}\n",
    "\n",
    "with open('/work/uc1275/LukasBrunner/data/SubGridVariability/results/pr_binned-frequencies_icon_2021-2049.pkl', 'wb') as ff:\n",
    "    pickle.dump(hist_all_z, ff)"
   ]
  }
 ],
 "metadata": {
  "kernelspec": {
   "display_name": "0 Python 3 (based on the module python3/unstable",
   "language": "python",
   "name": "python3_unstable"
  },
  "language_info": {
   "codemirror_mode": {
    "name": "ipython",
    "version": 3
   },
   "file_extension": ".py",
   "mimetype": "text/x-python",
   "name": "python",
   "nbconvert_exporter": "python",
   "pygments_lexer": "ipython3",
   "version": "3.10.10"
  }
 },
 "nbformat": 4,
 "nbformat_minor": 5
}
